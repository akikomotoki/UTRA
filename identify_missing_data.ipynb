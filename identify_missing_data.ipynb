{
 "cells": [
  {
   "cell_type": "code",
   "execution_count": null,
   "id": "6c57ba8b-369c-41a0-ad21-66e7d4754200",
   "metadata": {},
   "outputs": [],
   "source": []
  },
  {
   "cell_type": "code",
   "execution_count": 19,
   "id": "119d63a8-c36f-4ccc-aa06-054c7b7c6941",
   "metadata": {},
   "outputs": [],
   "source": [
    "import intake\n",
    "import numpy as np\n",
    "import pandas as pd\n",
    "\n",
    "cat_url = \"https://storage.googleapis.com/cmip6/pangeo-cmip6.json\"\n",
    "col = intake.open_esm_datastore(cat_url)"
   ]
  },
  {
   "cell_type": "code",
   "execution_count": 17,
   "id": "b31caab5-87ab-4272-8f9e-de879fcca2fc",
   "metadata": {},
   "outputs": [],
   "source": [
    "iids = []\n",
    "test = []\n",
    "source_ids = ['ACCESS-CM2',\n",
    "                 'ACCESS-ESM1-5',\n",
    "                 'AWI-ESM-1-1-LR',\n",
    "                 'CESM2',\n",
    "                 'CESM2-FV2',\n",
    "                 'CESM2-WACCM',\n",
    "                 'CESM2-WACCM-FV2',\n",
    "                 'CMCC-CM2-SR5',\n",
    "                 'CMCC-ESM2',\n",
    "                 'E3SM-1-0',\n",
    "                 'EC-Earth3',\n",
    "                 'EC-Earth3-AerChem',\n",
    "                 'EC-Earth3-CC',\n",
    "                 'EC-Earth3-Veg-LR',\n",
    "                 'GFDL-CM4',\n",
    "                 'GFDL-ESM4',\n",
    "                 'GISS-E2-1-H',\n",
    "                 'IPSL-CM6A-LR',\n",
    "                 'IPSL-CM6A-LR-INCA',\n",
    "                 'KIOST-ESM',\n",
    "                 'MIROC6',\n",
    "                 'MPI-ESM-1-2-HAM',\n",
    "                 'MPI-ESM1-2-HR',\n",
    "                 'MPI-ESM1-2-LR',\n",
    "                 'SAM0-UNICON']\n",
    "\n",
    "for source_id in source_ids:\n",
    "    siv_query = col.search(\n",
    "        experiment_id=['historical'], \n",
    "        table_id=['SImon'],\n",
    "        source_id=source_id,\n",
    "        variable_id=['siv'])\n",
    "    \n",
    "    siu_query = col.search(\n",
    "        experiment_id=['historical'], \n",
    "        table_id=['SImon'],\n",
    "        source_id=source_id,\n",
    "        variable_id=['siu'])\n",
    "    \n",
    "    \n",
    "    for row, data in siu_query.df.iterrows():\n",
    "        member_id = data.member_id\n",
    "        if member_id not in siv_query.df['member_id'].values:\n",
    "            fname = data.zstore.replace('gs://cmip6/', '').replace('/', '.').replace('siu', 'siv')\n",
    "            fname = fname[:-1]\n",
    "            if fname not in iids:\n",
    "                iids.append(fname)\n",
    "        else:\n",
    "            fname = data.zstore.replace('gs://cmip6/', '').replace('/', '.').replace('siu', 'siv')\n",
    "            fname = fname[:-1]\n",
    "            test.append(fname)\n",
    "            \n",
    "    for row, data in siv_query.df.iterrows():\n",
    "        member_id = data.member_id\n",
    "        if member_id not in siu_query.df['member_id'].values:\n",
    "            fname = data.zstore.replace('gs://cmip6/', '').replace('/', '.').replace('siv', 'siu')\n",
    "            fname = fname[:-1]\n",
    "            if fname not in iids:\n",
    "                iids.append(fname)"
   ]
  },
  {
   "cell_type": "code",
   "execution_count": 18,
   "id": "c473be8e-02ea-4732-b329-84abe34a379e",
   "metadata": {},
   "outputs": [
    {
     "data": {
      "text/plain": [
       "['s3:..cmip6-pds.CMIP6.CMIP.NCAR.CESM2.historical.r3i1p1f1.SImon.siv.gn.v20190308',\n",
       " 's3:..cmip6-pds.CMIP6.CMIP.NCAR.CESM2.historical.r2i1p1f1.SImon.siv.gn.v20190308',\n",
       " 's3:..cmip6-pds.CMIP6.CMIP.NCAR.CESM2.historical.r8i1p1f1.SImon.siv.gn.v20190311',\n",
       " 's3:..cmip6-pds.CMIP6.CMIP.NCAR.CESM2.historical.r9i1p1f1.SImon.siv.gn.v20190311',\n",
       " 's3:..cmip6-pds.CMIP6.CMIP.NCAR.CESM2.historical.r10i1p1f1.SImon.siv.gn.v20190313',\n",
       " 's3:..cmip6-pds.CMIP6.CMIP.NCAR.CESM2-WACCM-FV2.historical.r3i1p1f1.SImon.siv.gn.v20200226',\n",
       " 's3:..cmip6-pds.CMIP6.CMIP.NCAR.CESM2-WACCM-FV2.historical.r2i1p1f1.SImon.siv.gn.v20200226',\n",
       " 's3:..cmip6-pds.CMIP6.CMIP.IPSL.IPSL-CM6A-LR.historical.r14i1p1f1.SImon.siv.gn.v20180803',\n",
       " 's3:..cmip6-pds.CMIP6.CMIP.IPSL.IPSL-CM6A-LR.historical.r18i1p1f1.SImon.siv.gn.v20180803',\n",
       " 's3:..cmip6-pds.CMIP6.CMIP.IPSL.IPSL-CM6A-LR.historical.r15i1p1f1.SImon.siv.gn.v20180803',\n",
       " 's3:..cmip6-pds.CMIP6.CMIP.IPSL.IPSL-CM6A-LR.historical.r30i1p1f1.SImon.siv.gn.v20180803',\n",
       " 's3:..cmip6-pds.CMIP6.CMIP.IPSL.IPSL-CM6A-LR.historical.r9i1p1f1.SImon.siv.gn.v20180803',\n",
       " 's3:..cmip6-pds.CMIP6.CMIP.IPSL.IPSL-CM6A-LR.historical.r23i1p1f1.SImon.siv.gn.v20180803',\n",
       " 's3:..cmip6-pds.CMIP6.CMIP.IPSL.IPSL-CM6A-LR.historical.r24i1p1f1.SImon.siv.gn.v20180803',\n",
       " 's3:..cmip6-pds.CMIP6.CMIP.IPSL.IPSL-CM6A-LR.historical.r16i1p1f1.SImon.siv.gn.v20180803']"
      ]
     },
     "execution_count": 18,
     "metadata": {},
     "output_type": "execute_result"
    }
   ],
   "source": [
    "# CESM2 siv\n",
    "# I found non-concatenated files for r8, r9, r10, and concatenated files for r3 and r2\n",
    "# For CESM2-WACCM-FV2 the SIV files were missing for r2 and r3\n",
    "iids"
   ]
  },
  {
   "cell_type": "code",
   "execution_count": 11,
   "id": "a7d7e325-8332-4df6-a215-f6216aa5dc85",
   "metadata": {},
   "outputs": [
    {
     "name": "stdout",
     "output_type": "stream",
     "text": [
      "Found in catalog='qc': iids=['CMIP6.CMIP.NASA-GISS.GISS-E2-1-H.historical.r5i1p5f1.SImon.siv.gn.v20190905', 'CMIP6.CMIP.NASA-GISS.GISS-E2-1-H.historical.r3i1p5f1.SImon.siv.gn.v20190905', 'CMIP6.CMIP.NASA-GISS.GISS-E2-1-H.historical.r1i1p5f1.SImon.siv.gn.v20190905', 'CMIP6.CMIP.NASA-GISS.GISS-E2-1-H.historical.r4i1p5f1.SImon.siv.gn.v20190905', 'CMIP6.CMIP.NASA-GISS.GISS-E2-1-H.historical.r2i1p5f1.SImon.siv.gn.v20190905', 'CMIP6.CMIP.EC-Earth-Consortium.EC-Earth3-Veg-LR.historical.r1i1p1f1.SImon.siv.gn.v20200919', 'CMIP6.CMIP.NASA-GISS.GISS-E2-1-H.historical.r5i1p1f1.SImon.siv.gn.v20190403', 'CMIP6.CMIP.NASA-GISS.GISS-E2-1-H.historical.r10i1p1f1.SImon.siv.gn.v20190403', 'CMIP6.CMIP.SNU.SAM0-UNICON.historical.r1i1p1f1.SImon.siv.gn.v20190323', 'CMIP6.CMIP.NASA-GISS.GISS-E2-1-H.historical.r7i1p1f1.SImon.siv.gn.v20190403', 'CMIP6.CMIP.NASA-GISS.GISS-E2-1-H.historical.r6i1p1f1.SImon.siv.gn.v20190403', 'CMIP6.CMIP.NASA-GISS.GISS-E2-1-H.historical.r3i1p1f1.SImon.siv.gn.v20190403', 'CMIP6.CMIP.NASA-GISS.GISS-E2-1-H.historical.r9i1p1f1.SImon.siv.gn.v20190403', 'CMIP6.CMIP.NASA-GISS.GISS-E2-1-H.historical.r1i1p1f1.SImon.siv.gn.v20190403', 'CMIP6.CMIP.NASA-GISS.GISS-E2-1-H.historical.r4i1p1f1.SImon.siv.gn.v20190403', 'CMIP6.CMIP.NASA-GISS.GISS-E2-1-H.historical.r8i1p1f1.SImon.siv.gn.v20190403', 'CMIP6.CMIP.NASA-GISS.GISS-E2-1-H.historical.r2i1p1f1.SImon.siv.gn.v20190403', 'CMIP6.CMIP.E3SM-Project.E3SM-1-0.historical.r4i1p1f1.SImon.siv.gr.v20190806', 'CMIP6.CMIP.NOAA-GFDL.GFDL-ESM4.historical.r1i1p1f1.SImon.siv.gn.v20190726', 'CMIP6.CMIP.IPSL.IPSL-CM6A-LR.historical.r3i1p1f1.SImon.siv.gn.v20180803', 'CMIP6.CMIP.IPSL.IPSL-CM6A-LR.historical.r7i1p1f1.SImon.siv.gn.v20180803', 'CMIP6.CMIP.NOAA-GFDL.GFDL-CM4.historical.r1i1p1f1.SImon.siv.gn.v20180701', 'CMIP6.CMIP.MPI-M.MPI-ESM1-2-LR.historical.r1i1p1f1.SImon.siv.gn.v20190710', 'CMIP6.CMIP.MPI-M.MPI-ESM1-2-HR.historical.r3i1p1f1.SImon.siv.gn.v20190710', 'CMIP6.CMIP.MPI-M.MPI-ESM1-2-HR.historical.r2i1p1f1.SImon.siv.gn.v20190710', 'CMIP6.CMIP.CMCC.CMCC-CM2-SR5.historical.r1i1p1f1.SImon.siv.gn.v20200616', 'CMIP6.CMIP.EC-Earth-Consortium.EC-Earth3-AerChem.historical.r1i1p1f1.SImon.siv.gn.v20200624', 'CMIP6.CMIP.NASA-GISS.GISS-E2-1-H.historical.r2i1p1f2.SImon.siv.gn.v20191003', 'CMIP6.CMIP.NASA-GISS.GISS-E2-1-H.historical.r5i1p1f2.SImon.siv.gn.v20191003', 'CMIP6.CMIP.NASA-GISS.GISS-E2-1-H.historical.r4i1p1f2.SImon.siv.gn.v20191003', 'CMIP6.CMIP.NASA-GISS.GISS-E2-1-H.historical.r1i1p1f2.SImon.siv.gn.v20191003', 'CMIP6.CMIP.E3SM-Project.E3SM-1-0.historical.r1i1p1f1.SImon.siv.gr.v20190926', 'CMIP6.CMIP.NASA-GISS.GISS-E2-1-H.historical.r3i1p1f2.SImon.siv.gn.v20191003', 'CMIP6.CMIP.NCAR.CESM2-FV2.historical.r3i1p1f1.SImon.siv.gn.v20200226', 'CMIP6.CMIP.NCAR.CESM2-FV2.historical.r2i1p1f1.SImon.siv.gn.v20200226', 'CMIP6.CMIP.AWI.AWI-ESM-1-1-LR.historical.r1i1p1f1.SImon.siv.gn.v20200212', 'CMIP6.CMIP.EC-Earth-Consortium.EC-Earth3.historical.r6i1p1f1.SImon.siv.gn.v20200201', 'CMIP6.CMIP.MPI-M.MPI-ESM1-2-HR.historical.r7i1p1f1.SImon.siv.gn.v20190710', 'CMIP6.CMIP.MPI-M.MPI-ESM1-2-HR.historical.r8i1p1f1.SImon.siv.gn.v20190710', 'CMIP6.CMIP.MPI-M.MPI-ESM1-2-LR.historical.r3i1p1f1.SImon.siv.gn.v20190710', 'CMIP6.CMIP.MPI-M.MPI-ESM1-2-LR.historical.r8i1p1f1.SImon.siv.gn.v20190710', 'CMIP6.CMIP.MPI-M.MPI-ESM1-2-HR.historical.r1i1p1f1.SImon.siv.gn.v20190710', 'CMIP6.CMIP.MPI-M.MPI-ESM1-2-HR.historical.r5i1p1f1.SImon.siv.gn.v20190710', 'CMIP6.CMIP.MPI-M.MPI-ESM1-2-HR.historical.r6i1p1f1.SImon.siv.gn.v20190710', 'CMIP6.CMIP.MPI-M.MPI-ESM1-2-LR.historical.r6i1p1f1.SImon.siv.gn.v20190710', 'CMIP6.CMIP.MPI-M.MPI-ESM1-2-HR.historical.r9i1p1f1.SImon.siv.gn.v20190710', 'CMIP6.CMIP.MPI-M.MPI-ESM1-2-LR.historical.r9i1p1f1.SImon.siv.gn.v20190710', 'CMIP6.CMIP.MPI-M.MPI-ESM1-2-LR.historical.r2i1p1f1.SImon.siv.gn.v20190710', 'CMIP6.CMIP.MPI-M.MPI-ESM1-2-LR.historical.r7i1p1f1.SImon.siv.gn.v20190710', 'CMIP6.CMIP.MPI-M.MPI-ESM1-2-HR.historical.r4i1p1f1.SImon.siv.gn.v20190710', 'CMIP6.CMIP.MPI-M.MPI-ESM1-2-LR.historical.r5i1p1f1.SImon.siv.gn.v20190710', 'CMIP6.CMIP.HAMMOZ-Consortium.MPI-ESM-1-2-HAM.historical.r1i1p1f1.SImon.siv.gn.v20190627', 'CMIP6.CMIP.HAMMOZ-Consortium.MPI-ESM-1-2-HAM.historical.r2i1p1f1.SImon.siv.gn.v20190627', 'CMIP6.CMIP.EC-Earth-Consortium.EC-Earth3.historical.r4i1p1f1.SImon.siv.gn.v20200425', 'CMIP6.CMIP.IPSL.IPSL-CM6A-LR.historical.r2i1p1f1.SImon.siv.gn.v20180803', 'CMIP6.CMIP.IPSL.IPSL-CM6A-LR.historical.r5i1p1f1.SImon.siv.gn.v20180803', 'CMIP6.CMIP.IPSL.IPSL-CM6A-LR.historical.r21i1p1f1.SImon.siv.gn.v20180803', 'CMIP6.CMIP.IPSL.IPSL-CM6A-LR.historical.r6i1p1f1.SImon.siv.gn.v20180803', 'CMIP6.CMIP.IPSL.IPSL-CM6A-LR.historical.r4i1p1f1.SImon.siv.gn.v20180803', 'CMIP6.CMIP.IPSL.IPSL-CM6A-LR.historical.r1i1p1f1.SImon.siv.gn.v20180803', 'CMIP6.CMIP.KIOST.KIOST-ESM.historical.r1i1p1f1.SImon.siv.gr1.v20201224', 'CMIP6.CMIP.EC-Earth-Consortium.EC-Earth3-AerChem.historical.r4i1p1f1.SImon.siv.gn.v20201214', 'CMIP6.CMIP.EC-Earth-Consortium.EC-Earth3.historical.r7i1p1f1.SImon.siv.gn.v20201217', 'CMIP6.CMIP.EC-Earth-Consortium.EC-Earth3.historical.r2i1p1f1.SImon.siv.gn.v20201215', 'CMIP6.CMIP.CSIRO.ACCESS-ESM1-5.historical.r2i1p1f1.SImon.siv.gn.v20200817', 'CMIP6.CMIP.CSIRO.ACCESS-ESM1-5.historical.r1i1p1f1.SImon.siv.gn.v20200817', 'CMIP6.CMIP.CSIRO.ACCESS-ESM1-5.historical.r3i1p1f1.SImon.siv.gn.v20200817', 'CMIP6.CMIP.CSIRO.ACCESS-ESM1-5.historical.r7i1p1f1.SImon.siv.gn.v20200817', 'CMIP6.CMIP.CSIRO-ARCCSS.ACCESS-CM2.historical.r3i1p1f1.SImon.siv.gn.v20200817', 'CMIP6.CMIP.CSIRO-ARCCSS.ACCESS-CM2.historical.r2i1p1f1.SImon.siv.gn.v20200817', 'CMIP6.CMIP.CSIRO.ACCESS-ESM1-5.historical.r5i1p1f1.SImon.siv.gn.v20200817', 'CMIP6.CMIP.CSIRO-ARCCSS.ACCESS-CM2.historical.r1i1p1f1.SImon.siv.gn.v20200817', 'CMIP6.CMIP.EC-Earth-Consortium.EC-Earth3.historical.r3i1p1f1.SImon.siv.gn.v20200730', 'CMIP6.CMIP.CSIRO.ACCESS-ESM1-5.historical.r6i1p1f1.SImon.siv.gn.v20200817', 'CMIP6.CMIP.CSIRO.ACCESS-ESM1-5.historical.r4i1p1f1.SImon.siv.gn.v20200817', 'CMIP6.CMIP.CMCC.CMCC-ESM2.historical.r1i1p1f1.SImon.siv.gn.v20210114', 'CMIP6.CMIP.EC-Earth-Consortium.EC-Earth3-CC.historical.r1i1p1f1.SImon.siv.gn.v20210113', 'CMIP6.CMIP.IPSL.IPSL-CM6A-LR-INCA.historical.r1i1p1f1.SImon.siv.gn.v20210216', 'CMIP6.CMIP.NASA-GISS.GISS-E2-1-H.historical.r2i1p3f1.SImon.siv.gn.v20191010', 'CMIP6.CMIP.NASA-GISS.GISS-E2-1-H.historical.r4i1p3f1.SImon.siv.gn.v20191010', 'CMIP6.CMIP.NASA-GISS.GISS-E2-1-H.historical.r5i1p3f1.SImon.siv.gn.v20191010', 'CMIP6.CMIP.NASA-GISS.GISS-E2-1-H.historical.r1i1p3f1.SImon.siv.gn.v20191010', 'CMIP6.CMIP.NASA-GISS.GISS-E2-1-H.historical.r3i1p3f1.SImon.siv.gn.v20191010', 'CMIP6.CMIP.E3SM-Project.E3SM-1-0.historical.r5i1p1f1.SImon.siv.gr.v20191210', 'CMIP6.CMIP.NCAR.CESM2-WACCM-FV2.historical.r1i1p1f1.SImon.siv.gn.v20191120', 'CMIP6.CMIP.E3SM-Project.E3SM-1-0.historical.r2i1p1f1.SImon.siv.gr.v20191206', 'CMIP6.CMIP.NCAR.CESM2-FV2.historical.r1i1p1f1.SImon.siv.gn.v20191120', 'CMIP6.CMIP.E3SM-Project.E3SM-1-0.historical.r3i1p1f1.SImon.siv.gr.v20191209', 'CMIP6.CMIP.EC-Earth-Consortium.EC-Earth3-Veg-LR.historical.r2i1p1f1.SImon.siv.gn.v20200919', 'CMIP6.CMIP.EC-Earth-Consortium.EC-Earth3.historical.r1i1p1f1.SImon.siv.gn.v20200918', 'CMIP6.CMIP.EC-Earth-Consortium.EC-Earth3-Veg-LR.historical.r3i1p1f1.SImon.siv.gn.v20200919', 'CMIP6.CMIP.MPI-M.MPI-ESM1-2-LR.historical.r10i1p1f1.SImon.siv.gn.v20190710', 'CMIP6.CMIP.MPI-M.MPI-ESM1-2-HR.historical.r10i1p1f1.SImon.siv.gn.v20190710', 'CMIP6.CMIP.MPI-M.MPI-ESM1-2-LR.historical.r4i1p1f1.SImon.siv.gn.v20190710', 'CMIP6.CMIP.HAMMOZ-Consortium.MPI-ESM-1-2-HAM.historical.r3i1p1f1.SImon.siv.gn.v20191218']\n",
      "\n",
      "Found in catalog='non-qc': iids=[]\n",
      "\n",
      "Found in catalog='retracted': iids=['CMIP6.CMIP.MIROC.MIROC6.historical.r6i1p1f1.SImon.siv.gn.v20190311', 'CMIP6.CMIP.MIROC.MIROC6.historical.r3i1p1f1.SImon.siv.gn.v20190311', 'CMIP6.CMIP.MIROC.MIROC6.historical.r4i1p1f1.SImon.siv.gn.v20190311', 'CMIP6.CMIP.MIROC.MIROC6.historical.r10i1p1f1.SImon.siv.gn.v20190311', 'CMIP6.CMIP.MIROC.MIROC6.historical.r9i1p1f1.SImon.siv.gn.v20190311', 'CMIP6.CMIP.MIROC.MIROC6.historical.r5i1p1f1.SImon.siv.gn.v20190311', 'CMIP6.CMIP.MIROC.MIROC6.historical.r1i1p1f1.SImon.siv.gn.v20190311', 'CMIP6.CMIP.MIROC.MIROC6.historical.r2i1p1f1.SImon.siv.gn.v20190311', 'CMIP6.CMIP.MIROC.MIROC6.historical.r8i1p1f1.SImon.siv.gn.v20190311', 'CMIP6.CMIP.MIROC.MIROC6.historical.r7i1p1f1.SImon.siv.gn.v20190311']\n",
      "\n",
      "\n",
      "\n",
      "Still missing 8 of 113: \n",
      "missing_iids=['CMIP6.CMIP.NCAR.CESM2-WACCM.historical.r3i1p1f1.SImon.siv.gn.v20190227', 'CMIP6.CMIP.NCAR.CESM2.historical.r1i1p1f1.SImon.siv.gn.v20190308', 'CMIP6.CMIP.NCAR.CESM2.historical.r6i1p1f1.SImon.siv.gn.v20190308', 'CMIP6.CMIP.NCAR.CESM2.historical.r4i1p1f1.SImon.siv.gn.v20190308', 'CMIP6.CMIP.NCAR.CESM2-WACCM.historical.r1i1p1f1.SImon.siv.gn.v20190227', 'CMIP6.CMIP.NCAR.CESM2.historical.r5i1p1f1.SImon.siv.gn.v20190308', 'CMIP6.CMIP.NCAR.CESM2-WACCM.historical.r2i1p1f1.SImon.siv.gn.v20190227', 'CMIP6.CMIP.NCAR.CESM2.historical.r7i1p1f1.SImon.siv.gn.v20190311']\n"
     ]
    }
   ],
   "source": [
    "import intake\n",
    "\n",
    "def zstore_to_iid(zstore: str):\n",
    "    # this is a bit whacky to account for the different way of storing old/new stores\n",
    "    iid =  '.'.join(zstore.replace('gs://','').replace('.zarr','').replace('.','/').split('/')[-11:-1])\n",
    "    if not iid.startswith('CMIP6'):\n",
    "        iid =  '.'.join(zstore.replace('gs://','').replace('.zarr','').replace('.','/').split('/')[-10:])\n",
    "    return iid\n",
    "\n",
    "def search_iids(col_url:str):\n",
    "    col = intake.open_esm_datastore(col_url)\n",
    "    iids_all= [zstore_to_iid(z) for z in col.df['zstore'].tolist()]\n",
    "    return [iid for iid in iids_all if iid in iids_requested]\n",
    "\n",
    "\n",
    "iids_requested = test\n",
    "\n",
    "url_dict = {\n",
    "    'qc':\"https://storage.googleapis.com/cmip6/cmip6-pgf-ingestion-test/catalog/catalog.json\",\n",
    "    'non-qc':\"https://storage.googleapis.com/cmip6/cmip6-pgf-ingestion-test/catalog/catalog_noqc.json\",\n",
    "    'retracted':\"https://storage.googleapis.com/cmip6/cmip6-pgf-ingestion-test/catalog/catalog_retracted.json\"\n",
    "}\n",
    "\n",
    "iids_found = []\n",
    "for catalog,url in url_dict.items():\n",
    "    iids = search_iids(url)\n",
    "    iids_found.extend(iids)\n",
    "    print(f\"Found in {catalog=}: {iids=}\\n\")\n",
    "\n",
    "missing_iids = list(set(iids_requested) - set(iids_found))\n",
    "print(f\"\\n\\nStill missing {len(missing_iids)} of {len(iids_requested)}: \\n{missing_iids=}\")"
   ]
  },
  {
   "cell_type": "code",
   "execution_count": 12,
   "id": "e41d4f89-2983-443a-8209-26b1a50f1361",
   "metadata": {},
   "outputs": [
    {
     "data": {
      "text/plain": [
       "['CMIP6.CMIP.MIROC.MIROC6.historical.r6i1p1f1.SImon.siv.gn.v20190311',\n",
       " 'CMIP6.CMIP.MIROC.MIROC6.historical.r3i1p1f1.SImon.siv.gn.v20190311',\n",
       " 'CMIP6.CMIP.MIROC.MIROC6.historical.r4i1p1f1.SImon.siv.gn.v20190311',\n",
       " 'CMIP6.CMIP.MIROC.MIROC6.historical.r10i1p1f1.SImon.siv.gn.v20190311',\n",
       " 'CMIP6.CMIP.MIROC.MIROC6.historical.r9i1p1f1.SImon.siv.gn.v20190311',\n",
       " 'CMIP6.CMIP.MIROC.MIROC6.historical.r5i1p1f1.SImon.siv.gn.v20190311',\n",
       " 'CMIP6.CMIP.MIROC.MIROC6.historical.r1i1p1f1.SImon.siv.gn.v20190311',\n",
       " 'CMIP6.CMIP.MIROC.MIROC6.historical.r2i1p1f1.SImon.siv.gn.v20190311',\n",
       " 'CMIP6.CMIP.MIROC.MIROC6.historical.r8i1p1f1.SImon.siv.gn.v20190311',\n",
       " 'CMIP6.CMIP.MIROC.MIROC6.historical.r7i1p1f1.SImon.siv.gn.v20190311']"
      ]
     },
     "execution_count": 12,
     "metadata": {},
     "output_type": "execute_result"
    }
   ],
   "source": [
    "iids"
   ]
  },
  {
   "cell_type": "code",
   "execution_count": 19,
   "id": "747ab9ba-76ad-49ca-914b-14e76c69d02c",
   "metadata": {},
   "outputs": [
    {
     "data": {
      "text/plain": [
       "'CMIP6.CMIP.CSIRO-ARCCSS.ACCESS-CM2.historical.r3i1p1f1.SImon.siv.gn.v20200817.'"
      ]
     },
     "execution_count": 19,
     "metadata": {},
     "output_type": "execute_result"
    }
   ],
   "source": [
    "data.zstore.replace('gs://cmip6/', '').replace('/', '.')"
   ]
  },
  {
   "cell_type": "code",
   "execution_count": null,
   "id": "729fe510-5768-4e37-870b-cd1a7e376439",
   "metadata": {},
   "outputs": [],
   "source": []
  }
 ],
 "metadata": {
  "kernelspec": {
   "display_name": "Python 3 (ipykernel)",
   "language": "python",
   "name": "python3"
  },
  "language_info": {
   "codemirror_mode": {
    "name": "ipython",
    "version": 3
   },
   "file_extension": ".py",
   "mimetype": "text/x-python",
   "name": "python",
   "nbconvert_exporter": "python",
   "pygments_lexer": "ipython3",
   "version": "3.9.13"
  }
 },
 "nbformat": 4,
 "nbformat_minor": 5
}
